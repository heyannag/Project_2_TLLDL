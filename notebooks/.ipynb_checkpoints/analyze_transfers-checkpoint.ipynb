{
 "cells": [
  {
   "cell_type": "markdown",
   "metadata": {},
   "source": [
    "# Department of Defense 1033 Transfers Post Ferguson\n",
    "\n",
    "This notebook analyzes tranfers from the Defense Logistics Agency to local law enforcement agencies through its \"1033 Program,\" focusing on transfers made after the August 2014 protests in Ferguson, Missouri. The DLA provides [quarterly data](https://www.dla.mil/DispositionServices/Offers/Reutilization/LawEnforcement/PublicInformation/) of \"the accountable property held by participating agencies\"."
   ]
  },
  {
   "cell_type": "code",
   "execution_count": 88,
   "metadata": {},
   "outputs": [],
   "source": [
    "import pandas as pd\n",
    "import matplotlib as mpl\n",
    "import numpy as py\n",
    "import matplotlib.pyplot as plt\n",
    "%matplotlib inline"
   ]
  },
  {
   "cell_type": "markdown",
   "metadata": {},
   "source": [
    "## Load Data\n",
    "\n",
    "*Note:* BuzzFeed News transformed the data, which comes in an multi-tabbed Excel file, into a CSV for easier analysis. That CSV file is what is loaded below."
   ]
  },
  {
   "cell_type": "code",
   "execution_count": 81,
   "metadata": {},
   "outputs": [],
   "source": [
    "data = (\n",
    "    pd\n",
    "    .read_csv(\n",
    "        \"../outputs/dla-1033-transfers.csv\", \n",
    "        parse_dates = [\"Ship Date\"]\n",
    "    )\n",
    "    .assign(\n",
    "        federal_supply_class = lambda x: x[\"NSN\"].apply(lambda y: y[:4]),\n",
    "        year = lambda x: x[\"Ship Date\"].apply(lambda y: y.year)\n",
    "    )\n",
    ")"
   ]
  },
  {
   "cell_type": "code",
   "execution_count": 82,
   "metadata": {},
   "outputs": [
    {
     "data": {
      "text/html": [
       "<div>\n",
       "<style scoped>\n",
       "    .dataframe tbody tr th:only-of-type {\n",
       "        vertical-align: middle;\n",
       "    }\n",
       "\n",
       "    .dataframe tbody tr th {\n",
       "        vertical-align: top;\n",
       "    }\n",
       "\n",
       "    .dataframe thead th {\n",
       "        text-align: right;\n",
       "    }\n",
       "</style>\n",
       "<table border=\"1\" class=\"dataframe\">\n",
       "  <thead>\n",
       "    <tr style=\"text-align: right;\">\n",
       "      <th></th>\n",
       "      <th>State</th>\n",
       "      <th>Station Name (LEA)</th>\n",
       "      <th>NSN</th>\n",
       "      <th>Item Name</th>\n",
       "      <th>Quantity</th>\n",
       "      <th>UI</th>\n",
       "      <th>Acquisition Value</th>\n",
       "      <th>DEMIL Code</th>\n",
       "      <th>DEMIL IC</th>\n",
       "      <th>Ship Date</th>\n",
       "      <th>Station Type</th>\n",
       "      <th>federal_supply_class</th>\n",
       "      <th>year</th>\n",
       "    </tr>\n",
       "  </thead>\n",
       "  <tbody>\n",
       "    <tr>\n",
       "      <th>118453</th>\n",
       "      <td>TN</td>\n",
       "      <td>PUTNAM COUNTY SHERIFF'S DEPT</td>\n",
       "      <td>2320-DS-TRU-CK00</td>\n",
       "      <td>TRUCKS AND TRUCK TRACTORS</td>\n",
       "      <td>1</td>\n",
       "      <td>Each</td>\n",
       "      <td>29777.0</td>\n",
       "      <td>A</td>\n",
       "      <td>NaN</td>\n",
       "      <td>2020-01-15</td>\n",
       "      <td>State</td>\n",
       "      <td>2320</td>\n",
       "      <td>2020</td>\n",
       "    </tr>\n",
       "    <tr>\n",
       "      <th>119952</th>\n",
       "      <td>TX</td>\n",
       "      <td>ALVIN POLICE DEPT</td>\n",
       "      <td>9999-01-594-0264</td>\n",
       "      <td>RECON SCOUT XT,SPEC</td>\n",
       "      <td>1</td>\n",
       "      <td>Each</td>\n",
       "      <td>13650.0</td>\n",
       "      <td>Q</td>\n",
       "      <td>3.0</td>\n",
       "      <td>2016-09-15</td>\n",
       "      <td>State</td>\n",
       "      <td>9999</td>\n",
       "      <td>2016</td>\n",
       "    </tr>\n",
       "    <tr>\n",
       "      <th>66483</th>\n",
       "      <td>MI</td>\n",
       "      <td>LAKE COUNTY SHERIFF DEPT</td>\n",
       "      <td>1005-00-073-9421</td>\n",
       "      <td>RIFLE,5.56 MILLIMETER</td>\n",
       "      <td>1</td>\n",
       "      <td>Each</td>\n",
       "      <td>499.0</td>\n",
       "      <td>D</td>\n",
       "      <td>1.0</td>\n",
       "      <td>2007-12-29</td>\n",
       "      <td>State</td>\n",
       "      <td>1005</td>\n",
       "      <td>2007</td>\n",
       "    </tr>\n",
       "    <tr>\n",
       "      <th>123942</th>\n",
       "      <td>TX</td>\n",
       "      <td>HIDALGO COUNTY CONSTABLE PCT 1</td>\n",
       "      <td>1005-01-128-9936</td>\n",
       "      <td>RIFLE,5.56 MILLIMETER</td>\n",
       "      <td>1</td>\n",
       "      <td>Each</td>\n",
       "      <td>749.0</td>\n",
       "      <td>D</td>\n",
       "      <td>1.0</td>\n",
       "      <td>2017-09-18</td>\n",
       "      <td>State</td>\n",
       "      <td>1005</td>\n",
       "      <td>2017</td>\n",
       "    </tr>\n",
       "    <tr>\n",
       "      <th>41096</th>\n",
       "      <td>IL</td>\n",
       "      <td>COOK COUNTY SHERIFFS OFFICE</td>\n",
       "      <td>1005-00-073-9421</td>\n",
       "      <td>RIFLE,5.56 MILLIMETER</td>\n",
       "      <td>1</td>\n",
       "      <td>Each</td>\n",
       "      <td>499.0</td>\n",
       "      <td>D</td>\n",
       "      <td>1.0</td>\n",
       "      <td>2008-04-14</td>\n",
       "      <td>State</td>\n",
       "      <td>1005</td>\n",
       "      <td>2008</td>\n",
       "    </tr>\n",
       "  </tbody>\n",
       "</table>\n",
       "</div>"
      ],
      "text/plain": [
       "       State              Station Name (LEA)               NSN  \\\n",
       "118453    TN    PUTNAM COUNTY SHERIFF'S DEPT  2320-DS-TRU-CK00   \n",
       "119952    TX               ALVIN POLICE DEPT  9999-01-594-0264   \n",
       "66483     MI        LAKE COUNTY SHERIFF DEPT  1005-00-073-9421   \n",
       "123942    TX  HIDALGO COUNTY CONSTABLE PCT 1  1005-01-128-9936   \n",
       "41096     IL     COOK COUNTY SHERIFFS OFFICE  1005-00-073-9421   \n",
       "\n",
       "                        Item Name  Quantity    UI  Acquisition Value  \\\n",
       "118453  TRUCKS AND TRUCK TRACTORS         1  Each            29777.0   \n",
       "119952        RECON SCOUT XT,SPEC         1  Each            13650.0   \n",
       "66483       RIFLE,5.56 MILLIMETER         1  Each              499.0   \n",
       "123942      RIFLE,5.56 MILLIMETER         1  Each              749.0   \n",
       "41096       RIFLE,5.56 MILLIMETER         1  Each              499.0   \n",
       "\n",
       "       DEMIL Code  DEMIL IC  Ship Date Station Type federal_supply_class  year  \n",
       "118453          A       NaN 2020-01-15        State                 2320  2020  \n",
       "119952          Q       3.0 2016-09-15        State                 9999  2016  \n",
       "66483           D       1.0 2007-12-29        State                 1005  2007  \n",
       "123942          D       1.0 2017-09-18        State                 1005  2017  \n",
       "41096           D       1.0 2008-04-14        State                 1005  2008  "
      ]
     },
     "execution_count": 82,
     "metadata": {},
     "output_type": "execute_result"
    }
   ],
   "source": [
    "data.sample(5, random_state = 0)"
   ]
  },
  {
   "cell_type": "markdown",
   "metadata": {},
   "source": [
    "The Ferguson protests ended on August 25, 2014; this analysis looks at all transfers after that date."
   ]
  },
  {
   "cell_type": "code",
   "execution_count": 83,
   "metadata": {},
   "outputs": [],
   "source": [
    "post_ferguson = data[\n",
    "    lambda x: x[\"Ship Date\"] > \"2014-08-25\"\n",
    "]"
   ]
  },
  {
   "cell_type": "code",
   "execution_count": 84,
   "metadata": {},
   "outputs": [
    {
     "name": "stdout",
     "output_type": "stream",
     "text": [
      "Since Ferguson there have been 47,429 total transfers of equipment that are still held by the police agency.\n",
      "They total $854,104,343.93.\n"
     ]
    }
   ],
   "source": [
    "print('''Since Ferguson there have been {:,} total transfers of equipment that are still held by the police agency.\n",
    "They total ${:,}.'''.format(\n",
    "    len(post_ferguson),\n",
    "    post_ferguson[\"Acquisition Value\"].sum()\n",
    "))"
   ]
  },
  {
   "cell_type": "code",
   "execution_count": 98,
   "metadata": {},
   "outputs": [
    {
     "data": {
      "image/png": "[encoded data removed]",
      "text/plain": [
       "<Figure size 576x288 with 1 Axes>"
      ]
     },
     "metadata": {
      "needs_background": "light"
     },
     "output_type": "display_data"
    }
   ],
   "source": [
    "year_totals = (\n",
    "    post_ferguson\n",
    "    .groupby(pd.Grouper(key = \"Ship Date\", freq = \"AS\"))\n",
    "    [\"Acquisition Value\"]\n",
    "    .sum()\n",
    "    .reset_index()\n",
    "    .assign(**{ \"Ship Date\": lambda df: df[\"Ship Date\"].dt.year })\n",
    "    .set_index(\"Ship Date\")\n",
    ")\n",
    "\n",
    "(\n",
    "    year_totals\n",
    "    .plot(\n",
    "        kind=\"bar\",\n",
    "        figsize = (8, 4)\n",
    "    ),\n",
    ")\n",
    "pass\n",
    "plt.savefig('../outputs/yearly_totals.png')"
   ]
  },
  {
   "cell_type": "code",
   "execution_count": 99,
   "metadata": {},
   "outputs": [
    {
     "name": "stdout",
     "output_type": "stream",
     "text": [
      "Total Stations sent 1033 transfers in TN: 2692\n"
     ]
    }
   ],
   "source": [
    "print(f'Total Stations sent 1033 transfers in TN:',post_ferguson['Station Name (LEA)'].nunique())"
   ]
  },
  {
   "cell_type": "code",
   "execution_count": 102,
   "metadata": {},
   "outputs": [
    {
     "data": {
      "text/html": [
       "<style  type=\"text/css\" >\n",
       "</style><table id=\"T_7d1c8432_bae5_11ea_a1c5_acde48001122\" ><thead>    <tr>        <th class=\"blank level0\" ></th>        <th class=\"col_heading level0 col0\" >Acquisition Value</th>    </tr>    <tr>        <th class=\"index_name level0\" >Ship Date</th>        <th class=\"blank\" ></th>    </tr></thead><tbody>\n",
       "                <tr>\n",
       "                        <th id=\"T_7d1c8432_bae5_11ea_a1c5_acde48001122level0_row0\" class=\"row_heading level0 row0\" >2014</th>\n",
       "                        <td id=\"T_7d1c8432_bae5_11ea_a1c5_acde48001122row0_col0\" class=\"data row0 col0\" >$24,507,466</td>\n",
       "            </tr>\n",
       "            <tr>\n",
       "                        <th id=\"T_7d1c8432_bae5_11ea_a1c5_acde48001122level0_row1\" class=\"row_heading level0 row1\" >2015</th>\n",
       "                        <td id=\"T_7d1c8432_bae5_11ea_a1c5_acde48001122row1_col0\" class=\"data row1 col0\" >$128,303,080</td>\n",
       "            </tr>\n",
       "            <tr>\n",
       "                        <th id=\"T_7d1c8432_bae5_11ea_a1c5_acde48001122level0_row2\" class=\"row_heading level0 row2\" >2016</th>\n",
       "                        <td id=\"T_7d1c8432_bae5_11ea_a1c5_acde48001122row2_col0\" class=\"data row2 col0\" >$237,431,708</td>\n",
       "            </tr>\n",
       "            <tr>\n",
       "                        <th id=\"T_7d1c8432_bae5_11ea_a1c5_acde48001122level0_row3\" class=\"row_heading level0 row3\" >2017</th>\n",
       "                        <td id=\"T_7d1c8432_bae5_11ea_a1c5_acde48001122row3_col0\" class=\"data row3 col0\" >$117,772,905</td>\n",
       "            </tr>\n",
       "            <tr>\n",
       "                        <th id=\"T_7d1c8432_bae5_11ea_a1c5_acde48001122level0_row4\" class=\"row_heading level0 row4\" >2018</th>\n",
       "                        <td id=\"T_7d1c8432_bae5_11ea_a1c5_acde48001122row4_col0\" class=\"data row4 col0\" >$72,199,536</td>\n",
       "            </tr>\n",
       "            <tr>\n",
       "                        <th id=\"T_7d1c8432_bae5_11ea_a1c5_acde48001122level0_row5\" class=\"row_heading level0 row5\" >2019</th>\n",
       "                        <td id=\"T_7d1c8432_bae5_11ea_a1c5_acde48001122row5_col0\" class=\"data row5 col0\" >$212,778,386</td>\n",
       "            </tr>\n",
       "            <tr>\n",
       "                        <th id=\"T_7d1c8432_bae5_11ea_a1c5_acde48001122level0_row6\" class=\"row_heading level0 row6\" >2020</th>\n",
       "                        <td id=\"T_7d1c8432_bae5_11ea_a1c5_acde48001122row6_col0\" class=\"data row6 col0\" >$61,111,263</td>\n",
       "            </tr>\n",
       "    </tbody></table>"
      ],
      "text/plain": [
       "<pandas.io.formats.style.Styler at 0x7fd126c71950>"
      ]
     },
     "execution_count": 102,
     "metadata": {},
     "output_type": "execute_result"
    }
   ],
   "source": [
    "year_totals.style.format(\"${0:,.0f}\")"
   ]
  },
  {
   "cell_type": "markdown",
   "metadata": {},
   "source": [
    "Limit data to only include TN transfers, export as CSV\n"
   ]
  },
  {
   "cell_type": "code",
   "execution_count": 103,
   "metadata": {},
   "outputs": [],
   "source": [
    "TN_df = post_ferguson.loc[post_ferguson[\"State\"]==\"TN\"]\n",
    "TN_df.to_csv(\"../outputs/TN_Transfers.csv\")"
   ]
  },
  {
   "cell_type": "markdown",
   "metadata": {},
   "source": [
    "## Analyze item transfers"
   ]
  },
  {
   "cell_type": "markdown",
   "metadata": {},
   "source": [
    "### MRAPs"
   ]
  },
  {
   "cell_type": "code",
   "execution_count": 104,
   "metadata": {},
   "outputs": [],
   "source": [
    "mraps = post_ferguson[\n",
    "    lambda x: x[\"Item Name\"] == \"MINE RESISTANT VEHICLE\"\n",
    "]"
   ]
  },
  {
   "cell_type": "code",
   "execution_count": 105,
   "metadata": {},
   "outputs": [
    {
     "data": {
      "text/plain": [
       "Each    493\n",
       "Name: UI, dtype: int64"
      ]
     },
     "execution_count": 105,
     "metadata": {},
     "output_type": "execute_result"
    }
   ],
   "source": [
    "mraps[\"UI\"].value_counts()"
   ]
  },
  {
   "cell_type": "code",
   "execution_count": 106,
   "metadata": {},
   "outputs": [
    {
     "data": {
      "text/plain": [
       "494"
      ]
     },
     "execution_count": 106,
     "metadata": {},
     "output_type": "execute_result"
    }
   ],
   "source": [
    "mraps[\"Quantity\"].sum()"
   ]
  },
  {
   "cell_type": "code",
   "execution_count": 107,
   "metadata": {},
   "outputs": [
    {
     "data": {
      "text/html": [
       "<div>\n",
       "<style scoped>\n",
       "    .dataframe tbody tr th:only-of-type {\n",
       "        vertical-align: middle;\n",
       "    }\n",
       "\n",
       "    .dataframe tbody tr th {\n",
       "        vertical-align: top;\n",
       "    }\n",
       "\n",
       "    .dataframe thead th {\n",
       "        text-align: right;\n",
       "    }\n",
       "</style>\n",
       "<table border=\"1\" class=\"dataframe\">\n",
       "  <thead>\n",
       "    <tr style=\"text-align: right;\">\n",
       "      <th></th>\n",
       "      <th>Quantity</th>\n",
       "    </tr>\n",
       "    <tr>\n",
       "      <th>year</th>\n",
       "      <th></th>\n",
       "    </tr>\n",
       "  </thead>\n",
       "  <tbody>\n",
       "    <tr>\n",
       "      <th>2014</th>\n",
       "      <td>6</td>\n",
       "    </tr>\n",
       "    <tr>\n",
       "      <th>2016</th>\n",
       "      <td>204</td>\n",
       "    </tr>\n",
       "    <tr>\n",
       "      <th>2017</th>\n",
       "      <td>56</td>\n",
       "    </tr>\n",
       "    <tr>\n",
       "      <th>2018</th>\n",
       "      <td>36</td>\n",
       "    </tr>\n",
       "    <tr>\n",
       "      <th>2019</th>\n",
       "      <td>153</td>\n",
       "    </tr>\n",
       "    <tr>\n",
       "      <th>2020</th>\n",
       "      <td>39</td>\n",
       "    </tr>\n",
       "  </tbody>\n",
       "</table>\n",
       "</div>"
      ],
      "text/plain": [
       "      Quantity\n",
       "year          \n",
       "2014         6\n",
       "2016       204\n",
       "2017        56\n",
       "2018        36\n",
       "2019       153\n",
       "2020        39"
      ]
     },
     "execution_count": 107,
     "metadata": {},
     "output_type": "execute_result"
    }
   ],
   "source": [
    "mraps.groupby(\"year\")[\"Quantity\"].sum().to_frame()"
   ]
  },
  {
   "cell_type": "code",
   "execution_count": 108,
   "metadata": {},
   "outputs": [],
   "source": [
    "def plot_quantity_by_year(items):\n",
    "    counts = (\n",
    "        items\n",
    "        .groupby(pd.Grouper(key = \"Ship Date\", freq = \"AS\"))\n",
    "        [\"Quantity\"]\n",
    "        .sum()\n",
    "        .reset_index()\n",
    "        .assign(**{ \"Ship Date\": lambda df: df[\"Ship Date\"].dt.year })\n",
    "        .set_index(\"Ship Date\")\n",
    "    )\n",
    "    \n",
    "    (\n",
    "        counts\n",
    "        .plot(\n",
    "            kind=\"bar\",\n",
    "            figsize = (8, 4)\n",
    "        )\n",
    "    )"
   ]
  },
  {
   "cell_type": "code",
   "execution_count": 109,
   "metadata": {},
   "outputs": [
    {
     "data": {
      "image/png": "[encoded data removed]",
      "text/plain": [
       "<Figure size 576x288 with 1 Axes>"
      ]
     },
     "metadata": {
      "needs_background": "light"
     },
     "output_type": "display_data"
    }
   ],
   "source": [
    "plot_quantity_by_year(mraps)"
   ]
  },
  {
   "cell_type": "code",
   "execution_count": 110,
   "metadata": {},
   "outputs": [
    {
     "data": {
      "text/plain": [
       "State\n",
       "TN    55\n",
       "TX    42\n",
       "NC    30\n",
       "FL    29\n",
       "AL    26\n",
       "MN    21\n",
       "MI    18\n",
       "WI    18\n",
       "MS    16\n",
       "GA    16\n",
       "Name: Quantity, dtype: int64"
      ]
     },
     "execution_count": 110,
     "metadata": {},
     "output_type": "execute_result"
    }
   ],
   "source": [
    "mraps.groupby(\"State\")[\"Quantity\"].sum().sort_values(ascending=False).head(10)"
   ]
  },
  {
   "cell_type": "code",
   "execution_count": 111,
   "metadata": {},
   "outputs": [],
   "source": [
    "mraps.groupby(\"State\")[\"Quantity\"].sum().to_frame().to_csv(\"../outputs/mraps_by_state.csv\", )"
   ]
  },
  {
   "cell_type": "code",
   "execution_count": 112,
   "metadata": {},
   "outputs": [],
   "source": [
    "mraps.to_csv(\"../outputs/mraps.csv\", index=None)"
   ]
  },
  {
   "cell_type": "markdown",
   "metadata": {},
   "source": [
    "### Body Armor"
   ]
  },
  {
   "cell_type": "code",
   "execution_count": 113,
   "metadata": {},
   "outputs": [],
   "source": [
    "body_armor = post_ferguson.loc[\n",
    "    lambda x: x[\"federal_supply_class\"].isin([\"8470\"]) # the federal supply class for Armor, Personal. Resource found in 'data/DISP_DLA_Handbook.pdf'\n",
    "]"
   ]
  },
  {
   "cell_type": "code",
   "execution_count": 114,
   "metadata": {},
   "outputs": [
    {
     "data": {
      "text/plain": [
       "886"
      ]
     },
     "execution_count": 114,
     "metadata": {},
     "output_type": "execute_result"
    }
   ],
   "source": [
    "body_armor[\"Quantity\"].sum()"
   ]
  },
  {
   "cell_type": "code",
   "execution_count": 115,
   "metadata": {},
   "outputs": [
    {
     "data": {
      "text/plain": [
       "Each    59\n",
       "Pair     1\n",
       "Kit      1\n",
       "Name: UI, dtype: int64"
      ]
     },
     "execution_count": 115,
     "metadata": {},
     "output_type": "execute_result"
    }
   ],
   "source": [
    "body_armor[\"UI\"].value_counts()"
   ]
  },
  {
   "cell_type": "code",
   "execution_count": 116,
   "metadata": {},
   "outputs": [
    {
     "data": {
      "text/html": [
       "<div>\n",
       "<style scoped>\n",
       "    .dataframe tbody tr th:only-of-type {\n",
       "        vertical-align: middle;\n",
       "    }\n",
       "\n",
       "    .dataframe tbody tr th {\n",
       "        vertical-align: top;\n",
       "    }\n",
       "\n",
       "    .dataframe thead th {\n",
       "        text-align: right;\n",
       "    }\n",
       "</style>\n",
       "<table border=\"1\" class=\"dataframe\">\n",
       "  <thead>\n",
       "    <tr style=\"text-align: right;\">\n",
       "      <th></th>\n",
       "      <th>UI</th>\n",
       "      <th>Item Name</th>\n",
       "    </tr>\n",
       "  </thead>\n",
       "  <tbody>\n",
       "    <tr>\n",
       "      <th>26189</th>\n",
       "      <td>Kit</td>\n",
       "      <td>REPAIR KIT,HELMET</td>\n",
       "    </tr>\n",
       "    <tr>\n",
       "      <th>102028</th>\n",
       "      <td>Pair</td>\n",
       "      <td>COVER,VEST,SMALL ARMS PROTECTIVE BODY ARMOR</td>\n",
       "    </tr>\n",
       "  </tbody>\n",
       "</table>\n",
       "</div>"
      ],
      "text/plain": [
       "          UI                                    Item Name\n",
       "26189    Kit                            REPAIR KIT,HELMET\n",
       "102028  Pair  COVER,VEST,SMALL ARMS PROTECTIVE BODY ARMOR"
      ]
     },
     "execution_count": 116,
     "metadata": {},
     "output_type": "execute_result"
    }
   ],
   "source": [
    "(\n",
    "    body_armor\n",
    "    [lambda df: df[\"UI\"] != \"Each\"]\n",
    "    [[ \"UI\", \"Item Name\" ]]\n",
    ")"
   ]
  },
  {
   "cell_type": "code",
   "execution_count": 117,
   "metadata": {},
   "outputs": [
    {
     "data": {
      "text/plain": [
       "year\n",
       "2014     26\n",
       "2015     36\n",
       "2016     33\n",
       "2017     13\n",
       "2018     85\n",
       "2019    393\n",
       "2020    300\n",
       "Name: Quantity, dtype: int64"
      ]
     },
     "execution_count": 117,
     "metadata": {},
     "output_type": "execute_result"
    }
   ],
   "source": [
    "body_armor.groupby(\"year\")[\"Quantity\"].sum()"
   ]
  },
  {
   "cell_type": "code",
   "execution_count": 118,
   "metadata": {},
   "outputs": [
    {
     "data": {
      "image/png": "[encoded data removed]",
      "text/plain": [
       "<Figure size 576x288 with 1 Axes>"
      ]
     },
     "metadata": {
      "needs_background": "light"
     },
     "output_type": "display_data"
    }
   ],
   "source": [
    "plot_quantity_by_year(body_armor)"
   ]
  },
  {
   "cell_type": "code",
   "execution_count": 119,
   "metadata": {},
   "outputs": [
    {
     "data": {
      "text/plain": [
       "Item Name\n",
       "SHIELD,PERSONAL PROTECTIVE                         303\n",
       "BAG,BODY ARMOR HELMET                              201\n",
       "CARRIER,SMALL ARMS PROTECTIVE BODY ARMOR            92\n",
       "VEST,REL,BA,S,GREEN                                 40\n",
       "BODY ARMOR,FRAGMENTATION PROTECTIVE                 38\n",
       "HELMET COVER,BALLIS                                 33\n",
       "HELMET,GROUND TROOPS'                               29\n",
       "VEST,SMALL ARMS PROTECTIVE BODY ARMOR               29\n",
       "VEST,REL,BA,XL,WDL                                  27\n",
       "HELMET,GROUND TROOPS-PARACHUTISTS                   14\n",
       "PAD,ADVANCED COMBAT HELMET NAPE,BALLASTIC           12\n",
       "PLATE CARRIER,REAR                                  12\n",
       "PLATE CARRIER,FRONT                                 10\n",
       "SUIT,EXPLOSIVE ORDNANCE DISPOSAL                    10\n",
       "VEST,REL,BA,L,GREEN                                 10\n",
       "POWER SUPPLY,EXPLOSIVE ORDNANCE DISPOSAL HELMET      6\n",
       "REPAIR KIT,HELMET                                    6\n",
       "HELMET,GROUND TROOPS                                 4\n",
       "HELMET,EXPLOSIVE ORDNANCE DISPOSAL                   3\n",
       "VISOR,HELMET,EXPLOSIVE ORDNANCE DISPOSAL             3\n",
       "VEST,REL,BA,M,KHA                                    2\n",
       "COVER,VEST,SMALL ARMS PROTECTIVE BODY ARMOR          1\n",
       "BALLISTIC SHIELDS                                    1\n",
       "Name: Quantity, dtype: int64"
      ]
     },
     "execution_count": 119,
     "metadata": {},
     "output_type": "execute_result"
    }
   ],
   "source": [
    "body_armor.groupby([\"Item Name\"])[\"Quantity\"].sum().sort_values(ascending=False)"
   ]
  },
  {
   "cell_type": "code",
   "execution_count": 120,
   "metadata": {},
   "outputs": [
    {
     "data": {
      "text/html": [
       "<div>\n",
       "<style scoped>\n",
       "    .dataframe tbody tr th:only-of-type {\n",
       "        vertical-align: middle;\n",
       "    }\n",
       "\n",
       "    .dataframe tbody tr th {\n",
       "        vertical-align: top;\n",
       "    }\n",
       "\n",
       "    .dataframe thead th {\n",
       "        text-align: right;\n",
       "    }\n",
       "</style>\n",
       "<table border=\"1\" class=\"dataframe\">\n",
       "  <thead>\n",
       "    <tr style=\"text-align: right;\">\n",
       "      <th></th>\n",
       "      <th>State</th>\n",
       "      <th>Station Name (LEA)</th>\n",
       "      <th>NSN</th>\n",
       "      <th>Item Name</th>\n",
       "      <th>Quantity</th>\n",
       "      <th>UI</th>\n",
       "      <th>Acquisition Value</th>\n",
       "      <th>DEMIL Code</th>\n",
       "      <th>DEMIL IC</th>\n",
       "      <th>Ship Date</th>\n",
       "      <th>Station Type</th>\n",
       "      <th>federal_supply_class</th>\n",
       "      <th>year</th>\n",
       "    </tr>\n",
       "  </thead>\n",
       "  <tbody>\n",
       "    <tr>\n",
       "      <th>131787</th>\n",
       "      <td>VA</td>\n",
       "      <td>LURAY POLICE DEPT</td>\n",
       "      <td>8470-01-386-2970</td>\n",
       "      <td>BALLISTIC SHIELDS</td>\n",
       "      <td>1</td>\n",
       "      <td>Each</td>\n",
       "      <td>1116.59</td>\n",
       "      <td>D</td>\n",
       "      <td>1.0</td>\n",
       "      <td>2016-11-16</td>\n",
       "      <td>State</td>\n",
       "      <td>8470</td>\n",
       "      <td>2016</td>\n",
       "    </tr>\n",
       "  </tbody>\n",
       "</table>\n",
       "</div>"
      ],
      "text/plain": [
       "       State Station Name (LEA)               NSN          Item Name  \\\n",
       "131787    VA  LURAY POLICE DEPT  8470-01-386-2970  BALLISTIC SHIELDS   \n",
       "\n",
       "        Quantity    UI  Acquisition Value DEMIL Code  DEMIL IC  Ship Date  \\\n",
       "131787         1  Each            1116.59          D       1.0 2016-11-16   \n",
       "\n",
       "       Station Type federal_supply_class  year  \n",
       "131787        State                 8470  2016  "
      ]
     },
     "execution_count": 120,
     "metadata": {},
     "output_type": "execute_result"
    }
   ],
   "source": [
    "body_armor.loc[\n",
    "    lambda x: x[\"Item Name\"] == \"BALLISTIC SHIELDS\"\n",
    "]"
   ]
  },
  {
   "cell_type": "code",
   "execution_count": 121,
   "metadata": {},
   "outputs": [
    {
     "data": {
      "text/plain": [
       "Station Name (LEA)                 State\n",
       "MILWAUKEE POLICE DEPT              WI       254\n",
       "BLOUNT COUNTY SHERIFFS OFFICE      TN        94\n",
       "LAFAYETTE POLICE DEPARTMENT        IN        92\n",
       "HOLMDEL TWP POLICE DEPT            NJ        46\n",
       "WEATHERLY POLICE DEPT              PA        45\n",
       "HOPE MILLS POLICE DEPT             NC        44\n",
       "GREEN BAY POLICE DEPT              WI        27\n",
       "BUENA VISTA COUNTY SHERIFF OFFICE  IA        22\n",
       "SHERBURNE COUNTY SHERIFF'S OFFICE  MN        22\n",
       "CHESTER POLICE DEPT                PA        20\n",
       "Name: Quantity, dtype: int64"
      ]
     },
     "execution_count": 121,
     "metadata": {},
     "output_type": "execute_result"
    }
   ],
   "source": [
    "(\n",
    "    body_armor\n",
    "    .groupby([\n",
    "        \"Station Name (LEA)\",\n",
    "        \"State\"\n",
    "    ])\n",
    "    [\"Quantity\"]\n",
    "    .sum()\n",
    "    .sort_values(ascending=False)\n",
    "    .head(10)\n",
    ")"
   ]
  },
  {
   "cell_type": "markdown",
   "metadata": {},
   "source": [
    "### \"Riot\" equipment"
   ]
  },
  {
   "cell_type": "code",
   "execution_count": 122,
   "metadata": {},
   "outputs": [
    {
     "data": {
      "text/plain": [
       "Item Name\n",
       "FACESHIELD,MILITARY,RIOT CONTROL    85\n",
       "FACESHIELD,RIOT CONTROL             59\n",
       "RIOT CONTROL SHIELD                 63\n",
       "SUIT,RIOT TRAINING                   1\n",
       "SUIT,RIOT TRAINING                   4\n",
       "Name: Quantity, dtype: int64"
      ]
     },
     "execution_count": 122,
     "metadata": {},
     "output_type": "execute_result"
    }
   ],
   "source": [
    "post_ferguson[\n",
    "    lambda x: x[\"Item Name\"].str.contains(\"RIOT\")\n",
    "].groupby(\"Item Name\")[\"Quantity\"].sum()"
   ]
  },
  {
   "cell_type": "markdown",
   "metadata": {},
   "source": [
    "### Rifles"
   ]
  },
  {
   "cell_type": "code",
   "execution_count": 123,
   "metadata": {},
   "outputs": [],
   "source": [
    "rifles = post_ferguson[\n",
    "    lambda x: x[\"Item Name\"].isin([\"RIFLE,5.56 MILLIMETER\", \"RIFLE,7.62 MILLIMETER\"])\n",
    "]"
   ]
  },
  {
   "cell_type": "code",
   "execution_count": 124,
   "metadata": {},
   "outputs": [
    {
     "data": {
      "text/plain": [
       "Each    6508\n",
       "Name: UI, dtype: int64"
      ]
     },
     "execution_count": 124,
     "metadata": {},
     "output_type": "execute_result"
    }
   ],
   "source": [
    "rifles[\"UI\"].value_counts()"
   ]
  },
  {
   "cell_type": "code",
   "execution_count": 125,
   "metadata": {},
   "outputs": [
    {
     "data": {
      "text/plain": [
       "Item Name\n",
       "RIFLE,5.56 MILLIMETER    6507\n",
       "RIFLE,4.5 MILLIMETERS       6\n",
       "RIFLE                       3\n",
       "RIFLE,7.62 MILLIMETER       1\n",
       "Name: Quantity, dtype: int64"
      ]
     },
     "execution_count": 125,
     "metadata": {},
     "output_type": "execute_result"
    }
   ],
   "source": [
    "rifles = (\n",
    "    post_ferguson\n",
    "    [lambda x: x[\"Item Name\"].str.contains(\"RIFLE\")]\n",
    "    [lambda x: (\n",
    "        x[\"Item Name\"].str.contains(\"MM|MILLIMETER\") |\n",
    "        (x[\"Item Name\"] == \"RIFLE\")\n",
    "    )]\n",
    "    [lambda x: ~x[\"Item Name\"].str.contains(\"CONVERSION|SIMULATED\")]\n",
    ")\n",
    "\n",
    "(\n",
    "    rifles\n",
    "    .groupby([\"Item Name\"])\n",
    "    [\"Quantity\"]\n",
    "    .sum()\n",
    "    .sort_values(ascending = False)\n",
    ")"
   ]
  },
  {
   "cell_type": "code",
   "execution_count": 126,
   "metadata": {},
   "outputs": [
    {
     "data": {
      "text/plain": [
       "Station Name (LEA)               State\n",
       "OAKLAND COUNTY  SHERIFF OFFICE   MI       250\n",
       "STATE PATROL                     WI       229\n",
       "VENTURA COUNTY SHERIFF OFFICE    CA       115\n",
       "SUMTER POLICE DEPT               SC        99\n",
       "SAINT LUCIE COUNTY SHERIFF DEPT  FL        91\n",
       "LEAGUE CITY POLICE DEPT          TX        90\n",
       "PADUCAH POLICE DEPT              KY        78\n",
       "MOUNT PLEASANT POLICE DEPT       SC        74\n",
       "AIKEN COUNTY SHERIFF OFFICE      SC        74\n",
       "DARLINGTON COUNTY SHERIFF DEPT   SC        65\n",
       "Name: Quantity, dtype: int64"
      ]
     },
     "execution_count": 126,
     "metadata": {},
     "output_type": "execute_result"
    }
   ],
   "source": [
    "(\n",
    "    rifles\n",
    "    .groupby([\n",
    "        \"Station Name (LEA)\",\n",
    "        \"State\"\n",
    "    ])\n",
    "    [\"Quantity\"]\n",
    "    .sum()\n",
    "    .sort_values(ascending=False)\n",
    "    .head(10)\n",
    ")"
   ]
  },
  {
   "cell_type": "code",
   "execution_count": 127,
   "metadata": {},
   "outputs": [
    {
     "data": {
      "text/plain": [
       "6517"
      ]
     },
     "execution_count": 127,
     "metadata": {},
     "output_type": "execute_result"
    }
   ],
   "source": [
    "rifles[\"Quantity\"].sum()"
   ]
  },
  {
   "cell_type": "code",
   "execution_count": 128,
   "metadata": {},
   "outputs": [
    {
     "data": {
      "text/plain": [
       "year\n",
       "2014    4534\n",
       "2015     789\n",
       "2017    1187\n",
       "2018       1\n",
       "2019       6\n",
       "Name: Quantity, dtype: int64"
      ]
     },
     "execution_count": 128,
     "metadata": {},
     "output_type": "execute_result"
    }
   ],
   "source": [
    "rifles.groupby(\"year\")[\"Quantity\"].sum()"
   ]
  },
  {
   "cell_type": "code",
   "execution_count": 129,
   "metadata": {},
   "outputs": [
    {
     "data": {
      "image/png": "[encoded data removed]",
      "text/plain": [
       "<Figure size 576x288 with 1 Axes>"
      ]
     },
     "metadata": {
      "needs_background": "light"
     },
     "output_type": "display_data"
    }
   ],
   "source": [
    "plot_quantity_by_year(rifles)"
   ]
  },
  {
   "cell_type": "markdown",
   "metadata": {},
   "source": [
    "### Aircraft"
   ]
  },
  {
   "cell_type": "code",
   "execution_count": 130,
   "metadata": {},
   "outputs": [],
   "source": [
    "aircraft = post_ferguson.loc[\n",
    "    lambda x: x[\"Item Name\"].isin([\n",
    "        \"HELICOPTER,OBSERVATION\",\n",
    "        \"HELICOPTER,UTILITY\",\n",
    "        \"AIRCRAFT, FIXED WING\",\n",
    "        \"AIRPLANE,CARGO-TRANSPORT\",\n",
    "        \"HELICOPTER,MEDEVAC\"\n",
    "    ])\n",
    "]"
   ]
  },
  {
   "cell_type": "code",
   "execution_count": 131,
   "metadata": {},
   "outputs": [
    {
     "data": {
      "text/plain": [
       "Each    76\n",
       "Name: UI, dtype: int64"
      ]
     },
     "execution_count": 131,
     "metadata": {},
     "output_type": "execute_result"
    }
   ],
   "source": [
    "aircraft[\"UI\"].value_counts()"
   ]
  },
  {
   "cell_type": "code",
   "execution_count": 132,
   "metadata": {},
   "outputs": [
    {
     "data": {
      "text/plain": [
       "Station Name (LEA)                State\n",
       "FLORENCE COUNTY SHERIFF DEPT      SC       3\n",
       "TUSCALOOSA COUNTY SHERIFF OFFICE  AL       3\n",
       "ARIZONA DEPT OF PUBLIC SAFETY     AZ       3\n",
       "TUSCALOOSA POLICE DEPT            AL       3\n",
       "LAKE COUNTY SHERIFF DEPT          IN       3\n",
       "MARSHALL COUNTY SHERIFFS OFFICE   MS       3\n",
       "MCLENNAN COUNTY SHERIFF'S OFFICE  TX       3\n",
       "CHAMBERS COUNTY SHERIFF'S OFFICE  AL       3\n",
       "PINAL COUNTY SHERIFF OFFICE       AZ       2\n",
       "HENRY COUNTY SHERIFFS OFFICE      AL       2\n",
       "Name: Quantity, dtype: int64"
      ]
     },
     "execution_count": 132,
     "metadata": {},
     "output_type": "execute_result"
    }
   ],
   "source": [
    "(\n",
    "    aircraft\n",
    "    .groupby([\n",
    "        \"Station Name (LEA)\",\n",
    "        \"State\"\n",
    "    ])\n",
    "    [\"Quantity\"]\n",
    "    .sum()\n",
    "    .sort_values(ascending=False)\n",
    "    .head(10)\n",
    ")"
   ]
  },
  {
   "cell_type": "code",
   "execution_count": 133,
   "metadata": {},
   "outputs": [
    {
     "data": {
      "text/plain": [
       "76"
      ]
     },
     "execution_count": 133,
     "metadata": {},
     "output_type": "execute_result"
    }
   ],
   "source": [
    "aircraft[\"Quantity\"].sum()"
   ]
  },
  {
   "cell_type": "code",
   "execution_count": 134,
   "metadata": {},
   "outputs": [
    {
     "data": {
      "text/plain": [
       "year\n",
       "2014    18\n",
       "2015     5\n",
       "2016    10\n",
       "2017    18\n",
       "2018    25\n",
       "Name: Quantity, dtype: int64"
      ]
     },
     "execution_count": 134,
     "metadata": {},
     "output_type": "execute_result"
    }
   ],
   "source": [
    "aircraft.groupby(\"year\")[\"Quantity\"].sum()"
   ]
  },
  {
   "cell_type": "code",
   "execution_count": 135,
   "metadata": {},
   "outputs": [
    {
     "data": {
      "image/png": "[encoded data removed]",
      "text/plain": [
       "<Figure size 576x288 with 1 Axes>"
      ]
     },
     "metadata": {
      "needs_background": "light"
     },
     "output_type": "display_data"
    }
   ],
   "source": [
    "plot_quantity_by_year(aircraft)"
   ]
  },
  {
   "cell_type": "code",
   "execution_count": 136,
   "metadata": {},
   "outputs": [
    {
     "data": {
      "text/html": [
       "<div>\n",
       "<style scoped>\n",
       "    .dataframe tbody tr th:only-of-type {\n",
       "        vertical-align: middle;\n",
       "    }\n",
       "\n",
       "    .dataframe tbody tr th {\n",
       "        vertical-align: top;\n",
       "    }\n",
       "\n",
       "    .dataframe thead th {\n",
       "        text-align: right;\n",
       "    }\n",
       "</style>\n",
       "<table border=\"1\" class=\"dataframe\">\n",
       "  <thead>\n",
       "    <tr style=\"text-align: right;\">\n",
       "      <th></th>\n",
       "      <th>State</th>\n",
       "      <th>Station Name (LEA)</th>\n",
       "      <th>NSN</th>\n",
       "      <th>Item Name</th>\n",
       "      <th>Quantity</th>\n",
       "      <th>UI</th>\n",
       "      <th>Acquisition Value</th>\n",
       "      <th>DEMIL Code</th>\n",
       "      <th>DEMIL IC</th>\n",
       "      <th>Ship Date</th>\n",
       "      <th>Station Type</th>\n",
       "      <th>federal_supply_class</th>\n",
       "      <th>year</th>\n",
       "    </tr>\n",
       "  </thead>\n",
       "  <tbody>\n",
       "    <tr>\n",
       "      <th>8873</th>\n",
       "      <td>AZ</td>\n",
       "      <td>ARIZONA DEPT OF PUBLIC SAFETY</td>\n",
       "      <td>1510-DS-FIX-WNGA</td>\n",
       "      <td>AIRCRAFT, FIXED WING</td>\n",
       "      <td>1</td>\n",
       "      <td>Each</td>\n",
       "      <td>17000000.0</td>\n",
       "      <td>C</td>\n",
       "      <td>NaN</td>\n",
       "      <td>2015-12-03 11:37:01.999</td>\n",
       "      <td>State</td>\n",
       "      <td>1510</td>\n",
       "      <td>2015</td>\n",
       "    </tr>\n",
       "    <tr>\n",
       "      <th>8894</th>\n",
       "      <td>AZ</td>\n",
       "      <td>ARIZONA DEPT OF PUBLIC SAFETY</td>\n",
       "      <td>1510-DS-FIX-WNGA</td>\n",
       "      <td>AIRCRAFT, FIXED WING</td>\n",
       "      <td>1</td>\n",
       "      <td>Each</td>\n",
       "      <td>17000000.0</td>\n",
       "      <td>C</td>\n",
       "      <td>NaN</td>\n",
       "      <td>2015-12-03 11:37:01.999</td>\n",
       "      <td>State</td>\n",
       "      <td>1510</td>\n",
       "      <td>2015</td>\n",
       "    </tr>\n",
       "    <tr>\n",
       "      <th>8895</th>\n",
       "      <td>AZ</td>\n",
       "      <td>ARIZONA DEPT OF PUBLIC SAFETY</td>\n",
       "      <td>1510-DS-FIX-WNGA</td>\n",
       "      <td>AIRCRAFT, FIXED WING</td>\n",
       "      <td>1</td>\n",
       "      <td>Each</td>\n",
       "      <td>17000000.0</td>\n",
       "      <td>C</td>\n",
       "      <td>NaN</td>\n",
       "      <td>2015-12-03 11:37:01.999</td>\n",
       "      <td>State</td>\n",
       "      <td>1510</td>\n",
       "      <td>2015</td>\n",
       "    </tr>\n",
       "  </tbody>\n",
       "</table>\n",
       "</div>"
      ],
      "text/plain": [
       "     State             Station Name (LEA)               NSN  \\\n",
       "8873    AZ  ARIZONA DEPT OF PUBLIC SAFETY  1510-DS-FIX-WNGA   \n",
       "8894    AZ  ARIZONA DEPT OF PUBLIC SAFETY  1510-DS-FIX-WNGA   \n",
       "8895    AZ  ARIZONA DEPT OF PUBLIC SAFETY  1510-DS-FIX-WNGA   \n",
       "\n",
       "                 Item Name  Quantity    UI  Acquisition Value DEMIL Code  \\\n",
       "8873  AIRCRAFT, FIXED WING         1  Each         17000000.0          C   \n",
       "8894  AIRCRAFT, FIXED WING         1  Each         17000000.0          C   \n",
       "8895  AIRCRAFT, FIXED WING         1  Each         17000000.0          C   \n",
       "\n",
       "      DEMIL IC               Ship Date Station Type federal_supply_class  year  \n",
       "8873       NaN 2015-12-03 11:37:01.999        State                 1510  2015  \n",
       "8894       NaN 2015-12-03 11:37:01.999        State                 1510  2015  \n",
       "8895       NaN 2015-12-03 11:37:01.999        State                 1510  2015  "
      ]
     },
     "execution_count": 136,
     "metadata": {},
     "output_type": "execute_result"
    }
   ],
   "source": [
    "aircraft[\n",
    "    lambda x: x[\"Station Name (LEA)\"] == \"ARIZONA DEPT OF PUBLIC SAFETY\"\n",
    "]"
   ]
  },
  {
   "cell_type": "markdown",
   "metadata": {},
   "source": [
    "### Bayonets"
   ]
  },
  {
   "cell_type": "code",
   "execution_count": 137,
   "metadata": {},
   "outputs": [
    {
     "data": {
      "text/plain": [
       "167"
      ]
     },
     "execution_count": 137,
     "metadata": {},
     "output_type": "execute_result"
    }
   ],
   "source": [
    "bayonets = post_ferguson.loc[\n",
    "    lambda x: x[\"Item Name\"].str.contains(\"BAYONET\")\n",
    "]\n",
    "\n",
    "bayonets[\"Quantity\"].sum()"
   ]
  },
  {
   "cell_type": "code",
   "execution_count": 138,
   "metadata": {},
   "outputs": [
    {
     "data": {
      "text/plain": [
       "Station Name (LEA)                 State\n",
       "CYPRESS FAIRBANKS ISD PD K-12      TX       60\n",
       "COTTAGE GROVE PD                   MN       39\n",
       "GROSSE POINTE FARMS PUBLIC SAFETY  MI       30\n",
       "PALMER LAKE POLICE DEPT            CO       12\n",
       "GRANITE SHOALS POLICE DEPARTMENT   TX       10\n",
       "DANVILLE  PD                       PA        9\n",
       "GURLEY POLICE DEPT                 AL        6\n",
       "TUCSON POLICE DEPT                 AZ        1\n",
       "Name: Quantity, dtype: int64"
      ]
     },
     "execution_count": 138,
     "metadata": {},
     "output_type": "execute_result"
    }
   ],
   "source": [
    "(\n",
    "    bayonets\n",
    "    .groupby([\n",
    "        \"Station Name (LEA)\",\n",
    "        \"State\"\n",
    "    ])\n",
    "    [\"Quantity\"]\n",
    "    .sum()\n",
    "    .sort_values(ascending=False)\n",
    "    .head(10)\n",
    ")"
   ]
  },
  {
   "cell_type": "code",
   "execution_count": 139,
   "metadata": {},
   "outputs": [
    {
     "data": {
      "text/plain": [
       "Each    9\n",
       "Name: UI, dtype: int64"
      ]
     },
     "execution_count": 139,
     "metadata": {},
     "output_type": "execute_result"
    }
   ],
   "source": [
    "bayonets[\"UI\"].value_counts()"
   ]
  },
  {
   "cell_type": "code",
   "execution_count": 78,
   "metadata": {},
   "outputs": [
    {
     "data": {
      "image/png": "[encoded data removed]",
      "text/plain": [
       "<Figure size 576x288 with 1 Axes>"
      ]
     },
     "metadata": {
      "needs_background": "light"
     },
     "output_type": "display_data"
    }
   ],
   "source": [
    "plot_quantity_by_year(bayonets)"
   ]
  },
  {
   "cell_type": "markdown",
   "metadata": {},
   "source": [
    "---\n",
    "\n",
    "---\n",
    "\n",
    "---"
   ]
  }
 ],
 "metadata": {
  "kernelspec": {
   "display_name": "Python 3",
   "language": "python",
   "name": "python3"
  },
  "language_info": {
   "codemirror_mode": {
    "name": "ipython",
    "version": 3
   },
   "file_extension": ".py",
   "mimetype": "text/x-python",
   "name": "python",
   "nbconvert_exporter": "python",
   "pygments_lexer": "ipython3",
   "version": "3.7.6"
  }
 },
 "nbformat": 4,
 "nbformat_minor": 4
}
